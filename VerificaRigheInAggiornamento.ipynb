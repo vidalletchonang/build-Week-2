{
 "cells": [
  {
   "cell_type": "markdown",
   "id": "7b3ecd7c-ac70-4648-aca9-e68040d1a8ee",
   "metadata": {
    "tags": []
   },
   "source": [
    "### Analizzando il dataset covid19_italy_province python.csv, abbiamo verificato che per 6027 righe il nome della provincia non è stato definito, mentre invece è presente il dato della regione. Inoltre è stato verificato che il ProvinceCode assegnato non è riconducibile a nessuna provincia italiana, e che si tratta probabilmente di un codice temporaneo. Tenendo conto di questa informazione, è stato deciso di effettuare le successive analisi considerando le sole regioni"
   ]
  },
  {
   "cell_type": "code",
   "execution_count": 1,
   "id": "63d16244-a282-4374-ba9e-7b38508feb4f",
   "metadata": {
    "tags": []
   },
   "outputs": [
    {
     "name": "stdout",
     "output_type": "stream",
     "text": [
      "6027 Province sono In fase di definizione/aggiornamento\n"
     ]
    }
   ],
   "source": [
    "import pandas as pd\n",
    "import numpy as np\n",
    "\n",
    "# carico e leggo il dataset\n",
    "file_path = 'covid19_italy_province _python.csv'\n",
    "df = pd.read_csv(file_path)\n",
    "\n",
    "# Conta quanti 'In fase di definizione/aggiornamento' sono presenti nella colonna 'ProvinceName'\n",
    "count = df[df['ProvinceName'] == 'In fase di definizione/aggiornamento'].shape[0]\n",
    "\n",
    "print(count,\"Province sono In fase di definizione/aggiornamento\")\n"
   ]
  },
  {
   "cell_type": "code",
   "execution_count": null,
   "id": "19e8effe-dc9a-4312-a5be-3505acc27d6e",
   "metadata": {},
   "outputs": [],
   "source": []
  }
 ],
 "metadata": {
  "kernelspec": {
   "display_name": "Python 3 (ipykernel)",
   "language": "python",
   "name": "python3"
  },
  "language_info": {
   "codemirror_mode": {
    "name": "ipython",
    "version": 3
   },
   "file_extension": ".py",
   "mimetype": "text/x-python",
   "name": "python",
   "nbconvert_exporter": "python",
   "pygments_lexer": "ipython3",
   "version": "3.11.5"
  }
 },
 "nbformat": 4,
 "nbformat_minor": 5
}
